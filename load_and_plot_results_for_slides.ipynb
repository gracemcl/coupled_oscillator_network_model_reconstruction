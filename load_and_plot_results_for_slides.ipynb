{
 "cells": [
  {
   "cell_type": "code",
   "execution_count": 3,
   "metadata": {},
   "outputs": [],
   "source": [
    "import pandas as pd\n",
    "import numpy as np\n",
    "import os\n",
    "import matplotlib.pyplot as plt\n",
    "import matplotlib\n",
    "FS=20\n",
    "matplotlib.rcParams.update({'font.size': FS}) # set font size"
   ]
  },
  {
   "cell_type": "markdown",
   "metadata": {},
   "source": [
    "## Exploring results files\n",
    "Lets examine the current folder to see which parameter sweeps are available."
   ]
  },
  {
   "cell_type": "code",
   "execution_count": 2,
   "metadata": {},
   "outputs": [
    {
     "data": {
      "text/html": [
       "<div>\n",
       "<style scoped>\n",
       "    .dataframe tbody tr th:only-of-type {\n",
       "        vertical-align: middle;\n",
       "    }\n",
       "\n",
       "    .dataframe tbody tr th {\n",
       "        vertical-align: top;\n",
       "    }\n",
       "\n",
       "    .dataframe thead th {\n",
       "        text-align: right;\n",
       "    }\n",
       "</style>\n",
       "<table border=\"1\" class=\"dataframe\">\n",
       "  <thead>\n",
       "    <tr style=\"text-align: right;\">\n",
       "      <th></th>\n",
       "      <th>Dates</th>\n",
       "      <th>Parameter</th>\n",
       "    </tr>\n",
       "  </thead>\n",
       "  <tbody>\n",
       "    <tr>\n",
       "      <th>0</th>\n",
       "      <td>20190107-173903</td>\n",
       "      <td>mu_freq</td>\n",
       "    </tr>\n",
       "    <tr>\n",
       "      <th>1</th>\n",
       "      <td>20181219-163117</td>\n",
       "      <td>coupling_function</td>\n",
       "    </tr>\n",
       "    <tr>\n",
       "      <th>2</th>\n",
       "      <td>20181219-131550</td>\n",
       "      <td>p_erdos_renyi</td>\n",
       "    </tr>\n",
       "    <tr>\n",
       "      <th>3</th>\n",
       "      <td>20181219-103647</td>\n",
       "      <td>sigma_freq</td>\n",
       "    </tr>\n",
       "    <tr>\n",
       "      <th>4</th>\n",
       "      <td>20181219-095350</td>\n",
       "      <td>tmax</td>\n",
       "    </tr>\n",
       "    <tr>\n",
       "      <th>5</th>\n",
       "      <td>20181219-012111</td>\n",
       "      <td>num_repeats</td>\n",
       "    </tr>\n",
       "    <tr>\n",
       "      <th>6</th>\n",
       "      <td>20181218-170411</td>\n",
       "      <td>num_osc</td>\n",
       "    </tr>\n",
       "  </tbody>\n",
       "</table>\n",
       "</div>"
      ],
      "text/plain": [
       "             Dates          Parameter\n",
       "0  20190107-173903            mu_freq\n",
       "1  20181219-163117  coupling_function\n",
       "2  20181219-131550      p_erdos_renyi\n",
       "3  20181219-103647         sigma_freq\n",
       "4  20181219-095350               tmax\n",
       "5  20181219-012111        num_repeats\n",
       "6  20181218-170411            num_osc"
      ]
     },
     "metadata": {},
     "output_type": "display_data"
    }
   ],
   "source": [
    "folder='data_for_paper\\\\'\n",
    "files=os.listdir(folder)\n",
    "dates=set()\n",
    "params=[]\n",
    "for file in files:\n",
    "    if \".xlsx\" in file:\n",
    "        dates.add(file.split('_')[-1].split('.')[0])\n",
    "dates=sorted(list(dates),reverse=True)\n",
    "for date in dates:\n",
    "    for file in files:\n",
    "        if date in file:\n",
    "            startind=file.find('results_')+8\n",
    "            endind=file.find('_sweep',startind)\n",
    "            params.append(file[startind:endind])\n",
    "            break\n",
    "file_df=pd.DataFrame()\n",
    "file_df['Dates']=dates\n",
    "file_df['Parameter']=params\n",
    "display(file_df)"
   ]
  },
  {
   "cell_type": "markdown",
   "metadata": {},
   "source": [
    "The functions below will be used to create a dataframe with the data from the csv files."
   ]
  },
  {
   "cell_type": "code",
   "execution_count": 4,
   "metadata": {},
   "outputs": [],
   "source": [
    "def get_param_val_run(df):\n",
    "    params=[]\n",
    "    vals=[]\n",
    "    runs=[]\n",
    "    networks=[]\n",
    "    for col in df.index:\n",
    "        col=col.replace(',','=')\n",
    "        tmp_list=col.split(\"=\")\n",
    "        params.append(tmp_list[0].replace(' ',''))\n",
    "        vals.append(tmp_list[1].replace(' ',''))\n",
    "        networks.append(tmp_list[2].split(' ')[2])\n",
    "        runs.append(int(tmp_list[4].replace(' ','')))\n",
    "    df['parameter']=params\n",
    "    df['parameter value']=vals\n",
    "    df['network']=networks\n",
    "    df['run number']=runs\n",
    "    df.rename(columns={0:'Validation Error'},inplace=True)\n",
    "    return df"
   ]
  },
  {
   "cell_type": "markdown",
   "metadata": {},
   "source": [
    "## Displaying results \n",
    "Now, we can import the data from the csv files, clean up the data types and display the last few rows in the resulting dataframes.  "
   ]
  },
  {
   "cell_type": "code",
   "execution_count": 5,
   "metadata": {
    "scrolled": false
   },
   "outputs": [],
   "source": [
    "index=6  # select the file to load by changing this variable\n",
    "timestr=dates[index]\n",
    "loop_parameter=params[index]\n",
    "filename_suffix=str(loop_parameter) +'_sweep_'+ str(timestr)\n",
    "\n",
    "w_df=pd.read_excel(folder+'frequency_results_'+ filename_suffix+'.xlsx',index_col=0).T\n",
    "f_df=pd.read_excel(folder+'coupling_function_results_'+ filename_suffix +'.xlsx',index_col=0).T\n",
    "A_df=pd.read_excel(folder+'adjacency_matrix_results_'+ filename_suffix +'.xlsx',index_col=0).T\n",
    "e_df=pd.read_excel(folder+'validation_error_results_'+ filename_suffix +'.xlsx',index_col=0)\n",
    "e_df=get_param_val_run(e_df.T).rename(columns={'parameter':'loop_parameter','parameter value':'parameter'})\n",
    "\n",
    "if False: # replace False with True if you want to see them\n",
    "    display(w_df.head())\n",
    "    display(A_df.head())\n",
    "    display(f_df.head())\n",
    "    display(e_df.head())"
   ]
  },
  {
   "cell_type": "markdown",
   "metadata": {},
   "source": [
    "## Extracting the best run:\n",
    "Now lets select only the run with the lowest validation error"
   ]
  },
  {
   "cell_type": "code",
   "execution_count": 6,
   "metadata": {
    "scrolled": false
   },
   "outputs": [],
   "source": [
    "idx=e_df.groupby(['network','parameter'])['Validation Error'].idxmin().values\n",
    "A_df=A_df.loc[idx,:].sort_values(by=['parameter','network'])\n",
    "w_df=w_df.loc[idx,:].sort_values(by=['parameter','network'])\n",
    "f_df=f_df.loc[idx,:].sort_values(by=['parameter','network'])\n",
    "e_df=e_df.loc[idx,:].sort_values(by=['parameter','network'])\n",
    "if False: # replace False with True if you want to see them\n",
    "    display(w_df.head())\n",
    "    display(A_df.head())\n",
    "    display(f_df.head())\n",
    "    display(e_df.head())"
   ]
  },
  {
   "cell_type": "markdown",
   "metadata": {},
   "source": [
    "## Plot functions\n",
    "Here we define dictionaries that can be used to use different labels in the plot than in the data frame.  You can add entries for new categories (`cat_name_dict`) and parameters (`parameter_name_dict`)."
   ]
  },
  {
   "cell_type": "code",
   "execution_count": 7,
   "metadata": {},
   "outputs": [],
   "source": [
    "import seaborn as sns\n",
    "cat_name_dict={'Area ratio': 'Area Ratio ($\\Gamma$)',#r'$\\frac{\\int_0^{2\\pi} |\\Gamma(x)-\\hat{\\Gamma}(x)|dx}{\\int_0^{2\\pi} |\\Gamma(x)|dx}$'\n",
    "               'Mean absolute deviation': 'Mean Abs. Dev. ($\\omega_i$)',#r'$\\langle |\\omega_i-\\hat{\\omega}_i|\\rangle_i $',\n",
    "               'Error rate': 'Error % ($A_{ij}$)',\n",
    "               'Area under ROC curve': 'ROC Area',\n",
    "               'Validation Error': 'Val Error'}\n",
    "parameter_name_dict={'noise_level': 'Noise standard deviation',\n",
    "                     'num_osc': 'N',\n",
    "                     'tmax': 'simulation time',\n",
    "                     'num_repeats': 'number of restarts',\n",
    "                     'sigma_freq': 'Frequency $\\sigma$',\n",
    "                     'mu_freq': 'Frequency $\\mu$',\n",
    "                     'p_erdos_renyi': 'Connection Probability $p$'}"
   ]
  },
  {
   "cell_type": "markdown",
   "metadata": {},
   "source": [
    "The function below is used to generate the plots using a package called seaborn."
   ]
  },
  {
   "cell_type": "code",
   "execution_count": 8,
   "metadata": {},
   "outputs": [],
   "source": [
    "import seaborn as sns\n",
    "def plot_results(df,cat,plot_type,xscale='linear',yscale='linear',ymin=np.nan,ymax=np.nan,figsize=(7,4)):\n",
    "    fig, ax = plt.subplots(figsize=figsize)\n",
    "    parameter=df['loop_parameter'][0]\n",
    "    cat_name=cat_name_dict[cat]\n",
    "    parameter_name=parameter_name_dict[parameter]\n",
    "\n",
    "    ##   \n",
    "    if plot_type=='cat_plot':\n",
    "        order=df['parameter'].unique()\n",
    "        neworder =[ int(float(x)) for x in order]\n",
    "        if isinstance(order[0],str):           \n",
    "            order=[x for _,x in sorted(zip(neworder,order))]\n",
    "            \n",
    "        tmp=sns.catplot(x='parameter',y=cat,data=df,alpha=0.5,s=5,color='black',ax=ax,order=order)\n",
    "        tmp.set_xticklabels(neworder)\n",
    "    ax.set_xlabel(parameter_name)\n",
    "    ax.set_ylabel(cat_name)\n",
    "    \n",
    "    ## set scale\n",
    "    if xscale=='log':\n",
    "        ax.set_xscale('log')\n",
    "    if yscale=='log':\n",
    "        ax.set_yscale('log')\n",
    "        \n",
    "    ## axis limits\n",
    "    if np.isnan(ymin):\n",
    "        ax.set_ylim(bottom=0)\n",
    "    else:\n",
    "        ax.set_ylim(bottom=ymin)\n",
    "    if not np.isnan(ymax):\n",
    "        ax.set_ylim(top=ymax)\n",
    "        \n",
    "    \n",
    "    fig.tight_layout()  ## set bounding box\n",
    "    fig.savefig(folder+filename_suffix+'_'+cat.replace(' ','_')+'.png')\n",
    "    plt.close()\n",
    "    return fig\n",
    "    "
   ]
  },
  {
   "cell_type": "markdown",
   "metadata": {},
   "source": [
    "Now we can generate plots below.  These will be saved to file in the folder where the data was found."
   ]
  },
  {
   "cell_type": "code",
   "execution_count": 9,
   "metadata": {
    "scrolled": false
   },
   "outputs": [
    {
     "data": {
      "image/png": "[encoded data removed]",
      "text/plain": [
       "<Figure size 504x288 with 1 Axes>"
      ]
     },
     "metadata": {},
     "output_type": "display_data"
    },
    {
     "data": {
      "image/png": "[encoded data removed]",
      "text/plain": [
       "<Figure size 504x288 with 1 Axes>"
      ]
     },
     "metadata": {},
     "output_type": "display_data"
    },
    {
     "data": {
      "image/png": "[encoded data removed]",
      "text/plain": [
       "<Figure size 504x288 with 1 Axes>"
      ]
     },
     "metadata": {},
     "output_type": "display_data"
    },
    {
     "data": {
      "image/png": "[encoded data removed]",
      "text/plain": [
       "<Figure size 504x288 with 1 Axes>"
      ]
     },
     "metadata": {},
     "output_type": "display_data"
    },
    {
     "data": {
      "image/png": "[encoded data removed]",
      "text/plain": [
       "<Figure size 504x288 with 1 Axes>"
      ]
     },
     "metadata": {},
     "output_type": "display_data"
    }
   ],
   "source": [
    "cat='Area ratio'\n",
    "fig=plot_results(f_df,cat,plot_type='cat_plot')\n",
    "cat='Mean absolute deviation'\n",
    "fig=plot_results(w_df,cat,plot_type='cat_plot')\n",
    "cat='Error rate'\n",
    "fig=plot_results(A_df,cat,plot_type='cat_plot',ymin=-0.2)\n",
    "cat='Area under ROC curve'\n",
    "fig=plot_results(A_df,cat,plot_type='cat_plot',ymin=0.6)\n",
    "cat='Validation Error'\n",
    "fig=plot_results(e_df,cat,plot_type='cat_plot',yscale='log',ymin=0.0000001,ymax=1)"
   ]
  },
  {
   "cell_type": "code",
   "execution_count": null,
   "metadata": {},
   "outputs": [],
   "source": []
  },
  {
   "cell_type": "code",
   "execution_count": null,
   "metadata": {},
   "outputs": [],
   "source": []
  },
  {
   "cell_type": "code",
   "execution_count": null,
   "metadata": {},
   "outputs": [],
   "source": []
  },
  {
   "cell_type": "code",
   "execution_count": null,
   "metadata": {},
   "outputs": [],
   "source": []
  },
  {
   "cell_type": "code",
   "execution_count": null,
   "metadata": {},
   "outputs": [],
   "source": []
  }
 ],
 "metadata": {
  "kernelspec": {
   "display_name": "Python 3",
   "language": "python",
   "name": "python3"
  },
  "language_info": {
   "codemirror_mode": {
    "name": "ipython",
    "version": 3
   },
   "file_extension": ".py",
   "mimetype": "text/x-python",
   "name": "python",
   "nbconvert_exporter": "python",
   "pygments_lexer": "ipython3",
   "version": "3.6.5"
  }
 },
 "nbformat": 4,
 "nbformat_minor": 2
}
