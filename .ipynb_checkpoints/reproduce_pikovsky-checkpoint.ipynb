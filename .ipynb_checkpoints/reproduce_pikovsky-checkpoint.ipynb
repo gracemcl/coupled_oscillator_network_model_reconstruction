{
 "cells": [
  {
   "cell_type": "code",
   "execution_count": 1,
   "metadata": {},
   "outputs": [
    {
     "name": "stderr",
     "output_type": "stream",
     "text": [
      "C:\\Users\\mpanaggio\\AppData\\Local\\Continuum\\anaconda3\\lib\\site-packages\\h5py\\__init__.py:36: FutureWarning: Conversion of the second argument of issubdtype from `float` to `np.floating` is deprecated. In future, it will be treated as `np.float64 == np.dtype(float).type`.\n",
      "  from ._conv import register_converters as _register_converters\n"
     ]
    },
    {
     "data": {
      "text/plain": [
       "<module 'learn_kuramoto_files' from 'C:\\\\Users\\\\mpanaggio\\\\Box\\\\MRC\\\\learn_model_fourier\\\\learn_network_structure\\\\learn_kuramoto_files.py'>"
      ]
     },
     "execution_count": 1,
     "metadata": {},
     "output_type": "execute_result"
    }
   ],
   "source": [
    "import learn_kuramoto_files as lk\n",
    "import numpy as np\n",
    "import importlib as imp\n",
    "import pandas as pd\n",
    "import time\n",
    "from scipy import signal\n",
    "import matplotlib.pyplot as plt\n",
    "imp.reload(lk)"
   ]
  },
  {
   "cell_type": "code",
   "execution_count": 2,
   "metadata": {},
   "outputs": [],
   "source": [
    "##############################################################################\n",
    "## define model parameters\n",
    "num_osc=10\n",
    "mu_freq=0.0  # mean natural frequency\n",
    "sigma_freq=0.5 # std natural frequency\n",
    "p_erdos_renyi=0.5  # probability of connection for erdos renyi\n",
    "random_seed=-1 # -1 to ignore\n",
    "coupling_function=lambda x: np.sin(x)#+0.1*np.sin(2*(x+0.2))   # Gamma from kuramoto model\n",
    "#coupling_function=lambda x: np.sin(x-0.2)+0.1*np.cos(2*x) # Gamma from kuramoto model\n",
    "\n",
    "##############################################################################\n",
    "## define numerical solution parameters\n",
    "dt=0.1     # time step for numerical solution\n",
    "tmax=50*dt    # maximum time for numerical solution\n",
    "noise_level=0.0 # post solution noise added\n",
    "dynamic_noise_level=0 # post solution noise added\n",
    "num_repeats=20#10 # number of restarts for numerical solution\n",
    "num_attempts=1#5 # number of times to attempt to learn from data for each network\n",
    "num_networks=1#10 # number of different networks for each parameter value\n",
    "method='euler' #'rk2','rk4','euler',\n",
    "with_vel=True\n",
    "## Note: the  loop parameter value will overwrite the value above"
   ]
  },
  {
   "cell_type": "code",
   "execution_count": 3,
   "metadata": {
    "scrolled": false
   },
   "outputs": [
    {
     "name": "stderr",
     "output_type": "stream",
     "text": [
      "C:\\Users\\mpanaggio\\AppData\\Local\\Continuum\\anaconda3\\lib\\site-packages\\scipy\\signal\\_arraytools.py:45: FutureWarning: Using a non-tuple sequence for multidimensional indexing is deprecated; use `arr[tuple(seq)]` instead of `arr[seq]`. In the future this will be interpreted as an array index, `arr[np.array(seq)]`, which will result either in an error or a different result.\n",
      "  b = a[a_slice]\n"
     ]
    }
   ],
   "source": [
    "show_plots=False\n",
    "# A_true=np.matrix(np.ones((3,3))-np.eye(3))\n",
    "# A_true[1,2]=0\n",
    "# A_true[2,1]=0\n",
    "# print(A_true)\n",
    "system_params={'w': lk.random_natural_frequencies(num_osc,mu=mu_freq,sigma=sigma_freq,seed=random_seed),\n",
    "        'A': lk.random_erdos_renyi_network(num_osc,p_value=p_erdos_renyi,seed=random_seed),\n",
    "        'K': 1.0,\n",
    "        'Gamma': coupling_function,\n",
    "        }\n",
    "solution_params={'dt':dt,\n",
    "                 'tmax':tmax,\n",
    "                 'noise': noise_level,\n",
    "                 'dynamic noise': dynamic_noise_level,\n",
    "                 'ts_skip': 1, # don't skip timesteps\n",
    "                 'num_repeats': num_repeats\n",
    "                 }\n",
    "\n",
    "learning_params={'learning_rate': 0.005,\n",
    "                 'n_epochs': 300, #400\n",
    "                 'batch_size':500,#500,\n",
    "                 'n_oscillators':num_osc,\n",
    "                 'dt': dt,\n",
    "                 'n_coefficients': 2,\n",
    "                 'reg':0.0001,\n",
    "                 'prediction_method': method,\n",
    "                 'velocity_fit': with_vel\n",
    "                 }\n",
    "t=np.arange(0,tmax,dt)[:-1].reshape(-1,1)\n",
    "phases,vel=lk.generate_data_vel(system_params,solution_params)\n",
    "if show_plots:\n",
    "    for repeat in range(solution_params['num_repeats']):\n",
    "        lk.plot_ode_results(t,phases[repeat*t.shape[0]:(1+repeat)*t.shape[0],:],figsize=(20,5),fontsize=16)\n",
    "        plt.plot(t,vel[repeat*t.shape[0]:(1+repeat)*t.shape[0],:])\n",
    "        plt.plot(t,0*t+system_params['w'].T,'--')\n",
    "        plt.show()"
   ]
  },
  {
   "cell_type": "code",
   "execution_count": 4,
   "metadata": {},
   "outputs": [
    {
     "name": "stdout",
     "output_type": "stream",
     "text": [
      "phases: (980, 10)\n",
      "vel: (980, 10)\n",
      "unknowns: 370\n"
     ]
    }
   ],
   "source": [
    "#phases=phases[:2,:]\n",
    "#vel=vel[:2,:]\n",
    "print(\"phases:\",phases.shape)\n",
    "print(\"vel:\",vel.shape)\n",
    "M=learning_params['n_coefficients']\n",
    "N=learning_params['n_oscillators']\n",
    "T=phases.shape[0]\n",
    "unknowns=N*(1+2*M*(N-1))\n",
    "print(\"unknowns:\",unknowns)"
   ]
  },
  {
   "cell_type": "code",
   "execution_count": 5,
   "metadata": {},
   "outputs": [],
   "source": [
    "def get_phase_differences(phases,oscillator,timestep,leave_out_self=False):    \n",
    "    theta_oscillator=phases[timestep,oscillator]\n",
    "    if leave_out_self:\n",
    "        theta_other=np.concatenate([phases[timestep,:oscillator],phases[timestep,oscillator+1:]])\n",
    "    else:\n",
    "        theta_other=phases\n",
    "    return theta_oscillator-theta_other"
   ]
  },
  {
   "cell_type": "markdown",
   "metadata": {},
   "source": [
    "We will format our linear system as follows:\n",
    "\n",
    "* omega: column 1\n",
    "* cos(1 dtheta):columns 2 to 2+(N-1)-1\n",
    "* sin(1 dtheta):columns 2+(N-1) to 2+2(N-1)-1\n",
    "* cos(2 dtheta):columns 2+2(N-1) to 2+3(N-1)-1\n",
    "* sin(2 dtheta):columns 2+3(N-1) to 2+4(N-1)-1\n",
    "..."
   ]
  },
  {
   "cell_type": "code",
   "execution_count": 22,
   "metadata": {
    "scrolled": false
   },
   "outputs": [],
   "source": [
    "from scipy.sparse import lil_matrix\n",
    "\n",
    "def get_col_ind(M,N,oscillators,neighbors,harmonic=0):\n",
    "    oscillators=np.array(oscillators).reshape(1,-1)\n",
    "    neighbors=np.array(neighbors).reshape(-1,1)\n",
    "    cols_per_equation=1+2*M*(N-1)\n",
    "    if harmonic<=0:\n",
    "        omega_col=oscillators*cols_per_equation\n",
    "        return omega_col\n",
    "    else:\n",
    "        start=oscillators*cols_per_equation+1+(harmonic-1)*2*(N-1)\n",
    "        cos_col=start+neighbors\n",
    "        sin_col=cos_col+(N-1)\n",
    "        return cos_col.squeeze(),sin_col.squeeze()\n",
    "    \n",
    "    \n",
    "def get_row_ind(T,N,oscillator,timestep):\n",
    "    return oscillator+N*timestep\n",
    " \n",
    "def generate_Ab(phases,vel,learning_params):\n",
    "    M=learning_params['n_coefficients']\n",
    "    N=learning_params['n_oscillators']\n",
    "    T=phases.shape[0]\n",
    "    C=1+2*M*(N-1) #columns per equation\n",
    "    A=lil_matrix((N*T, N*C), dtype=np.float64)\n",
    "    b=vel.reshape(-1,1)\n",
    "    for oscillator in range(N):\n",
    "        for timestep in range(T):\n",
    "            row=get_row_ind(T,N,oscillator,timestep)\n",
    "            for harmonic in range(M+1):\n",
    "                if harmonic==0:\n",
    "                    omega_col=get_col_ind(M,N,oscillator,neighbors=-1,harmonic=0)\n",
    "#                     print(\"oscillator:\",oscillator,\", \",end=' ')\n",
    "#                     print(\"timestep:\",timestep,\", \",end=' ')\n",
    "#                     print(\"harmonic:\",harmonic)\n",
    "#                     print(\"row:\", row,\", \",end=' ')\n",
    "#                     print(\"omega col:\",omega_col)\n",
    "                    A[row,omega_col]=1\n",
    "                else:\n",
    "                    cos_col,sin_col=get_col_ind(M,N,oscillator,neighbors=np.array(range(N-1)),harmonic=harmonic)\n",
    "#                     print(\"oscillator:\",oscillator,\", \",end=' ')\n",
    "#                     print(\"timestep:\",timestep,\", \",end=' ')\n",
    "#                     print(\"harmonic:\",harmonic)\n",
    "#                     print(\"row:\", row,\", \",end=' ')\n",
    "#                     print(\"cos col:\",cos_col,\", \",end=' ')\n",
    "#                     print(\"sin col:\",sin_col)\n",
    "                    dtheta=get_phase_differences(phases,oscillator,timestep,leave_out_self=True)                    \n",
    "                    A[row,cos_col]=np.cos(harmonic*dtheta)\n",
    "                    A[row,sin_col]=np.sin(harmonic*dtheta)\n",
    "    return A,b\n",
    "\n",
    "def unpack_x(x,learning_params,thr=0.1,show_coup_plots=False):\n",
    "    M=learning_params['n_coefficients']\n",
    "    N=learning_params['n_oscillators']\n",
    "    cols_per_equation=int(x.shape[0]/N)\n",
    "    \n",
    "    w=x[::cols_per_equation]\n",
    "    print(\"True w:\",system_params['w'].T.squeeze())\n",
    "    print(\"Estimated w:\",w)\n",
    "    \n",
    "    n_theta=20\n",
    "    th=np.linspace(-np.pi,np.pi,n_theta)\n",
    "    coup_vecs=np.zeros((N-1,n_theta))\n",
    "    harmonics=np.array(range(1,M+1)).reshape(-1,1)\n",
    "    A=np.zeros((N,N))\n",
    "    for oscillator in range(N):\n",
    "        cos_coef=np.zeros((N-1,M))\n",
    "        sin_coef=np.zeros((N-1,M))\n",
    "        for harmonic_ind in range(M):\n",
    "            harmonic=harmonic_ind+1\n",
    "            cos_col,sin_col=get_col_ind(M,N,oscillator,neighbors=np.array(range(N-1)),harmonic=harmonic)            \n",
    "            #print(cos_col,sin_col)\n",
    "            cos_coef[:,harmonic_ind]=x[cos_col]\n",
    "            sin_coef[:,harmonic_ind]=x[sin_col]\n",
    "        #print(cos_coef,sin_coef)\n",
    "        coup_vecs=cos_coef.dot(np.cos(harmonics*th))+sin_coef.dot(np.sin(harmonics*th))\n",
    "        if show_coup_plots:\n",
    "            plt.plot(th,N*coup_vecs.T)\n",
    "            plt.show()\n",
    "        amps=np.abs(coup_vecs).max(axis=1)\n",
    "        A[oscillator,:]=N*np.concatenate([amps[:oscillator],[0],amps[oscillator:]])\n",
    "    #print(A,type(A))\n",
    "    #print(system_params['A'],type(system_params['A']))\n",
    "    plt.figure(figsize=(15,6))\n",
    "    ax=plt.subplot(1,3,1)\n",
    "    ax.matshow(np.asarray(system_params['A']),cmap=plt.get_cmap('jet'), vmin=-0.5, vmax=1.5)\n",
    "    plt.title('True A')\n",
    "    ax=plt.subplot(1,3,2)\n",
    "    ax.matshow(A,cmap=plt.get_cmap('jet'), vmin=-0.5, vmax=1.5)\n",
    "    plt.title('Estimated A')\n",
    "    ax=plt.subplot(1,3,3)\n",
    "    ax.matshow((A>thr).astype(np.float64),cmap=plt.get_cmap('jet'), vmin=-0.5, vmax=1.5)\n",
    "    plt.title('Estimated A (thresh)')\n",
    "    plt.show()\n",
    "    return w,A\n",
    "def get_symmetry_constraints(learning_params):\n",
    "    M=learning_params['n_coefficients']\n",
    "    N=learning_params['n_oscillators']\n",
    "    C=1+2*M*(N-1)\n",
    "    Bmat=lil_matrix((N*(N-1)*M, N*C), dtype=np.float64)\n",
    "    c=np.zeros((N*(N-1)*M,1))\n",
    "    rowC=0\n",
    "    for harmonic in range(M):\n",
    "        # create matrices with column indices\n",
    "        cos_col=np.diag(np.nan*np.ones(N))\n",
    "        sin_col=np.diag(np.nan*np.ones(N))\n",
    "        cos_col_tmp,sin_col_tmp=get_col_ind(M,N,oscillators=range(N),neighbors=range(N-1),harmonic=harmonic+1)\n",
    "        cos_col[1:,:]=cos_col[1:,:]+np.tril(cos_col_tmp,0)\n",
    "        cos_col[:-1,:]=cos_col[:-1,:]+np.triu(cos_col_tmp,1)\n",
    "        sin_col[1:,:]=sin_col[1:,:]+np.tril(sin_col_tmp,0)\n",
    "        sin_col[:-1,:]=sin_col[:-1,:]+np.triu(sin_col_tmp,1)\n",
    "\n",
    "        for row in range(N):\n",
    "            for col in range(row):\n",
    "                Bmat[rowC,cos_col[row,col]]=1\n",
    "                Bmat[rowC,cos_col[col,row]]=-1\n",
    "                Bmat[rowC+1,sin_col[row,col]]=1\n",
    "                Bmat[rowC+1,sin_col[col,row]]=-1\n",
    "                rowC+=2 \n",
    "    return Bmat,c\n",
    "def get_combined_matrix(A,b,B,c):\n",
    "    newA=csr_matrix(vstack([hstack([A.T.dot(A),B.T]),hstack([B,lil_matrix(B.shape[0],B.shape[0])])]))\n",
    "    newb=csr_matrix(vstack([A.T.dot(b),c]))\n",
    "    return newA,newb\n",
    "def solve_system(newA,newb,learning_params,with_symmetry=True):\n",
    "    M=learning_params['n_coefficients']\n",
    "    N=learning_params['n_oscillators']\n",
    "    C=1+2*M*(N-1)\n",
    "    sol=spsolve(newA,newb)\n",
    "    x=sol[:N*C]\n",
    "    z=sol[N*C:]\n",
    "    return x"
   ]
  },
  {
   "cell_type": "code",
   "execution_count": 7,
   "metadata": {
    "scrolled": false
   },
   "outputs": [],
   "source": [
    "A,b=generate_Ab(phases,vel,learning_params)\n",
    "B,c=get_symmetry_constraints(learning_params)\n",
    "newA,newB=get_combined_matrix(A,b,B,c)\n",
    "x=solve_system(newA,newb,learning_params)\n",
    "unpack_x(x,learning_params)"
   ]
  },
  {
   "cell_type": "code",
   "execution_count": 8,
   "metadata": {},
   "outputs": [
    {
     "name": "stdout",
     "output_type": "stream",
     "text": [
      "[ 1.61062292e-01 -6.85447082e-04 -1.24478856e-03 -2.38237654e-04\n",
      "  1.07868153e-04  4.52419903e-04 -1.79615143e-03  1.05360739e-03\n",
      " -1.26980774e-03 -1.18199060e-03  8.91286887e-04 -9.82568298e-02\n",
      " -1.49466785e-03 -9.94670218e-02 -9.77273628e-04 -1.01149163e-01\n",
      " -2.31286762e-04  1.21487744e-03  9.17806779e-04 -4.05936753e-04\n",
      "  3.02668891e-04 -1.35599031e-03 -1.55610087e-03 -8.38384889e-04\n",
      "  1.13214343e-03 -7.87786964e-04  5.01415649e-04 -7.28918252e-04\n",
      " -2.55434520e-04  1.24019491e-03 -1.35222142e-03 -2.85741698e-04\n",
      "  4.61242621e-05  1.41280208e-03 -1.86129597e-03  3.07165878e-05\n",
      "  1.24872222e-04 -3.76971138e-01  7.52664989e-04 -1.26922426e-03\n",
      "  6.11596609e-04  1.46945420e-03  1.81894877e-03  1.29692629e-04\n",
      " -1.03707299e-03 -1.94997352e-03  1.03439433e-03  2.05766187e-03\n",
      "  5.10051387e-04 -9.96735868e-02 -1.01626875e-01 -1.02601157e-01\n",
      "  2.75897073e-03 -1.00379531e-01 -1.00024444e-01 -9.99524122e-02\n",
      "  2.77777742e-03  1.47356338e-03  9.59457187e-04  5.52755723e-04\n",
      "  7.07496856e-04 -2.20818418e-03  6.26253210e-04  1.54175114e-03\n",
      " -3.56731151e-04 -6.07016891e-04 -1.07067090e-03  6.67705677e-04\n",
      " -3.61448424e-04  2.56394888e-03 -1.58811313e-03 -1.05618727e-03\n",
      " -1.47723422e-04 -8.82782413e-05 -7.52949849e-01 -6.97853229e-04\n",
      "  1.09324959e-03  9.93287658e-05  8.17369383e-04 -6.43486237e-04\n",
      " -3.01493144e-03 -8.64488638e-04  1.58157602e-03 -1.58828502e-03\n",
      " -9.86152351e-02  1.43878500e-03 -9.81577334e-02  6.52566203e-04\n",
      " -1.01948930e-01 -9.92445098e-02 -1.00719763e-01 -1.72377380e-04\n",
      " -7.64903352e-04 -1.10262408e-03 -1.72070315e-03 -1.75390527e-03\n",
      "  1.32102527e-04  1.34876084e-03  8.93910696e-04 -5.25130020e-04\n",
      " -1.44065077e-03  3.40505697e-04 -5.87028523e-04  5.24016869e-04\n",
      "  2.35276742e-03  1.63783200e-03 -2.52185595e-03 -2.00446757e-03\n",
      " -3.12940558e-04 -2.58799298e-04  6.04125143e-04 -5.80166676e-02\n",
      " -2.52334676e-03 -7.75493621e-04 -8.01134067e-04  1.10634451e-04\n",
      "  2.23102779e-04  5.68764396e-04  6.21979540e-04  6.50978451e-04\n",
      "  1.69185596e-05  1.25583249e-03 -1.01378654e-01 -9.88710764e-02\n",
      " -1.46449176e-03 -1.07844409e-04 -6.97788158e-04 -9.92841092e-02\n",
      "  2.51523840e-03 -1.02459238e-01  1.00290226e-04  1.12292655e-04\n",
      " -7.77540184e-05 -4.39071568e-04 -1.62984048e-03  3.45277477e-04\n",
      " -1.02492599e-04  4.70994995e-04 -8.32384782e-04  1.06099855e-03\n",
      " -5.14718604e-04  1.87623654e-04 -7.96465056e-04  1.47318719e-03\n",
      "  6.17679630e-04 -9.06651980e-04 -9.60451861e-04  4.65863432e-04\n",
      " -2.09056769e-01 -2.37778907e-04 -2.07229214e-04 -6.22786726e-05\n",
      " -4.35991287e-05  7.66372559e-04  7.21934803e-06 -6.74970005e-04\n",
      "  1.42581043e-04  3.02387573e-04 -9.91330053e-02 -9.99645974e-02\n",
      " -8.32949563e-05 -2.06126320e-04 -1.35431907e-04 -3.91591942e-04\n",
      " -9.97385906e-02  2.89063993e-05 -9.96411461e-02  2.64920714e-04\n",
      "  5.40633233e-04  2.39540191e-04  1.31650142e-04 -1.03671250e-04\n",
      " -9.73745235e-04  1.11790742e-04  6.50267056e-04  6.44313020e-04\n",
      " -5.03514563e-04  4.75016912e-04  4.92791206e-04  2.99245749e-04\n",
      "  1.37089306e-04 -1.53472261e-04 -5.73975663e-04 -2.78813617e-04\n",
      " -4.74951628e-04 -4.22577800e-01 -8.23619957e-04 -2.27789227e-03\n",
      " -6.39078391e-04  6.89402136e-04 -1.84242618e-03  1.63299557e-03\n",
      " -1.31393096e-03  7.14798269e-04 -7.39842744e-04  1.51386605e-04\n",
      " -9.71229398e-02 -1.00989523e-01  2.63248195e-04  9.70032345e-04\n",
      " -9.94049861e-02 -1.03337326e-01 -9.61658396e-02  1.22973447e-03\n",
      "  7.08917637e-04 -2.57062807e-04  1.08600081e-03  1.08859221e-03\n",
      "  8.60044163e-04 -1.53180774e-04 -1.13822018e-03  1.11356364e-03\n",
      " -4.60906020e-04  2.03017131e-04 -9.94716747e-04  8.84423667e-04\n",
      " -2.65703331e-04  2.06918160e-03 -1.05160618e-03  1.29124147e-03\n",
      " -1.76663729e-03  3.58947889e-05  1.71666654e-01  2.67199942e-03\n",
      "  1.28717311e-03 -1.62734578e-03  2.94763465e-03 -3.41642341e-04\n",
      " -2.65466224e-03  3.41460561e-03 -1.61682936e-03 -1.23855089e-03\n",
      " -1.01017810e-01 -2.47603417e-03 -1.02476753e-01 -1.51498216e-04\n",
      " -3.88528457e-04 -9.70667086e-02 -9.65303806e-02 -1.03051310e-01\n",
      " -5.33239437e-04 -2.00470388e-04 -1.41266202e-03 -6.07632287e-04\n",
      " -7.24214108e-04  4.28659028e-04  2.91484445e-04  1.89356472e-03\n",
      "  2.02054511e-03 -6.21817046e-04 -5.90297474e-04 -1.59140527e-03\n",
      "  2.61284238e-03  9.65012188e-04  1.23710628e-03 -1.54065417e-03\n",
      " -1.41441161e-03  3.39076402e-04  4.31996796e-03  2.76055700e-01\n",
      " -4.18066542e-03  2.58950034e-03  1.26681363e-03 -9.34299621e-04\n",
      " -4.09773778e-05 -2.60539926e-03  9.37804812e-04  1.59563994e-03\n",
      "  3.68325785e-04 -2.70234685e-03 -9.95666528e-02 -9.84985203e-02\n",
      " -1.03187961e-01 -9.88135700e-02 -1.00015114e-01 -1.01073760e-01\n",
      " -1.01079736e-01  7.64255921e-04 -1.94111829e-03 -2.24194944e-04\n",
      "  8.23354061e-04 -2.04458397e-03  1.69865372e-03  2.08717401e-03\n",
      " -7.71330887e-04 -4.41307151e-04  4.97539861e-03  1.16293431e-03\n",
      " -5.36809055e-05 -1.07604255e-03 -1.42662743e-04  1.10806014e-04\n",
      " -3.20021523e-03 -2.52412748e-03 -2.90823271e-03  9.15413260e-04\n",
      " -5.39589333e-01 -7.80884603e-04 -6.10949921e-04 -1.13011104e-03\n",
      " -1.03027577e-03 -1.37915475e-03 -1.96207863e-03  1.07313457e-03\n",
      "  1.25408130e-03 -9.38172692e-04  5.40796625e-04 -1.01147022e-01\n",
      " -1.18130210e-04 -6.75697949e-04 -2.59514157e-04 -1.00608361e-01\n",
      " -1.00949813e-01 -1.00277642e-01 -9.91922107e-04  6.64129541e-04\n",
      "  7.47529867e-04 -4.21640279e-04  1.95570061e-04 -1.95775637e-04\n",
      "  3.22742992e-03  1.23409612e-04 -9.70411172e-04  1.33702416e-03\n",
      "  7.76318824e-04  1.20336404e-03  1.09239143e-03 -8.75355381e-04\n",
      "  4.92104832e-05 -7.40187568e-04 -7.66663626e-04  3.59151899e-04\n",
      "  9.25248268e-04  7.82818537e-02 -1.21972867e-03  1.82769433e-03\n",
      " -3.50054490e-04 -1.75832846e-03  5.26813824e-04 -1.79691385e-03\n",
      " -1.87999002e-04 -6.32055480e-04  3.73546789e-04 -2.73635893e-04\n",
      " -1.00043404e-01  6.79005370e-04 -1.00382397e-01 -9.87797366e-02\n",
      " -1.37816912e-04 -4.17679125e-04  2.21374956e-04  4.75602409e-04\n",
      " -1.13390610e-03 -1.73760879e-04 -4.44878977e-04 -1.15919865e-03\n",
      " -4.76866389e-04  4.21251871e-04 -5.40508820e-04 -2.74572203e-04\n",
      " -2.40809940e-04 -4.84257251e-04 -4.44850785e-04 -2.33442895e-04\n",
      "  9.22065515e-05 -3.75143618e-05  1.43882051e-04  2.15536229e-03\n",
      " -8.22048682e-04 -6.76223607e-04]\n"
     ]
    }
   ],
   "source": [
    "from scipy.sparse.linalg import lsqr\n",
    "A,b=generate_Ab(phases,vel,learning_params)\n",
    "sol=lsqr(A,b,damp=0.01)\n",
    "x=sol[0]\n",
    "flag=sol[1] # \n",
    "print(sol[0])"
   ]
  },
  {
   "cell_type": "code",
   "execution_count": 9,
   "metadata": {
    "scrolled": false
   },
   "outputs": [
    {
     "name": "stdout",
     "output_type": "stream",
     "text": [
      "(370,)\n",
      "[ 0.16095643 -0.3759672  -0.753644   -0.0566782  -0.20909612 -0.424449\n",
      "  0.17023425  0.2783421  -0.5407535   0.07824416]\n",
      "True w: [ 0.16095643 -0.3759672  -0.753644   -0.0566782  -0.20909612 -0.424449\n",
      "  0.17023425  0.2783421  -0.5407535   0.07824416]\n",
      "Estimated w: [ 0.16106229 -0.37697114 -0.75294985 -0.05801667 -0.20905677 -0.4225778\n",
      "  0.17166665  0.2760557  -0.53958933  0.07828185]\n"
     ]
    },
    {
     "data": {
      "image/png": "[encoded data removed]",
      "text/plain": [
       "<Figure size 1080x432 with 3 Axes>"
      ]
     },
     "metadata": {},
     "output_type": "display_data"
    },
    {
     "data": {
      "text/plain": [
       "(array([ 0.16106229, -0.37697114, -0.75294985, -0.05801667, -0.20905677,\n",
       "        -0.4225778 ,  0.17166665,  0.2760557 , -0.53958933,  0.07828185]),\n",
       " array([[0.        , 0.01518043, 0.98118438, 0.03186327, 1.00718108,\n",
       "         0.01830655, 1.01836175, 0.02803746, 0.01984827, 0.02046905],\n",
       "        [0.04911357, 0.        , 0.03186536, 1.00119116, 1.0176313 ,\n",
       "         1.0237635 , 0.05340608, 1.00913879, 1.01388876, 1.0006284 ],\n",
       "        [0.99404993, 0.03307687, 0.        , 0.99173409, 0.02655027,\n",
       "         1.03399311, 1.00366154, 1.00873842, 0.03022227, 0.02392422],\n",
       "        [0.03698619, 1.01291915, 0.98513036, 0.        , 0.02268937,\n",
       "         0.02437055, 0.015996  , 0.99246691, 0.03530477, 1.02855038],\n",
       "        [0.99158235, 1.00095355, 0.00636823, 0.00483418, 0.        ,\n",
       "         0.00934836, 0.01376576, 0.99658411, 0.00841443, 0.9998955 ],\n",
       "        [0.01532538, 0.97020391, 1.01622985, 0.01752553, 0.04094653,\n",
       "         0.        , 0.995245  , 1.03786038, 0.97167512, 0.01761996],\n",
       "        [1.01188331, 0.04912142, 1.02161643, 0.04001345, 0.01812724,\n",
       "         0.97495489, 0.        , 0.98019248, 1.04770031, 0.05340044],\n",
       "        [0.06393644, 0.99670394, 0.99046721, 1.04798548, 1.00136704,\n",
       "         1.0247411 , 1.01982254, 0.        , 1.01780232, 0.05789442],\n",
       "        [0.01829884, 1.01391273, 0.02082808, 0.0208343 , 0.01572249,\n",
       "         1.03732003, 1.00764315, 1.00936766, 0.        , 0.02832816],\n",
       "        [0.02477838, 1.00097246, 0.01246527, 1.0102255 , 0.98962395,\n",
       "         0.02218166, 0.02643436, 0.01394134, 0.01301549, 0.        ]]))"
      ]
     },
     "execution_count": 9,
     "metadata": {},
     "output_type": "execute_result"
    }
   ],
   "source": [
    "print(x.shape)\n",
    "print(system_params['w'].T.squeeze())\n",
    "unpack_x(x,learning_params)"
   ]
  },
  {
   "cell_type": "code",
   "execution_count": null,
   "metadata": {},
   "outputs": [],
   "source": []
  },
  {
   "cell_type": "markdown",
   "metadata": {},
   "source": [
    "Do we want to add a symmetry constraint?\n",
    "https://stackoverflow.com/questions/18134079/equality-constrained-least-square-fitting-using-python\n"
   ]
  },
  {
   "cell_type": "code",
   "execution_count": null,
   "metadata": {
    "scrolled": false
   },
   "outputs": [],
   "source": [
    "#A[:10,:].todense()"
   ]
  },
  {
   "cell_type": "code",
   "execution_count": 10,
   "metadata": {
    "scrolled": false
   },
   "outputs": [],
   "source": [
    "C=1+2*M*(N-1)\n",
    "Bmat=lil_matrix((N*(N-1)*M, N*C), dtype=np.float64)\n",
    "c=np.zeros((N*(N-1)*M,1))\n",
    "rowC=0\n",
    "for harmonic in range(M):\n",
    "    # create matrices with column indices\n",
    "    cos_col=np.diag(np.nan*np.ones(N))\n",
    "    sin_col=np.diag(np.nan*np.ones(N))\n",
    "    cos_col_tmp,sin_col_tmp=get_col_ind(M,N,oscillators=range(N),neighbors=range(N-1),harmonic=harmonic+1)\n",
    "    cos_col[1:,:]=cos_col[1:,:]+np.tril(cos_col_tmp,0)\n",
    "    cos_col[:-1,:]=cos_col[:-1,:]+np.triu(cos_col_tmp,1)\n",
    "    sin_col[1:,:]=sin_col[1:,:]+np.tril(sin_col_tmp,0)\n",
    "    sin_col[:-1,:]=sin_col[:-1,:]+np.triu(sin_col_tmp,1)\n",
    "    \n",
    "    for row in range(N):\n",
    "        for col in range(row):\n",
    "            Bmat[rowC,cos_col[row,col]]=1\n",
    "            Bmat[rowC,cos_col[col,row]]=-1\n",
    "            Bmat[rowC+1,sin_col[row,col]]=1\n",
    "            Bmat[rowC+1,sin_col[col,row]]=-1\n",
    "            rowC+=2        "
   ]
  },
  {
   "cell_type": "markdown",
   "metadata": {},
   "source": [
    "[ I   A  0   ] [ r ]   [ b ]\n",
    "[ A.T 0  B.T ] [ x ] = [ 0 ]\n",
    "[ 0   B  0   ] [ y ]   [ c ]\n",
    "\n",
    "A: (N*T, N*C)\n",
    "B:(N*(N-1)*M, N*C)\n"
   ]
  },
  {
   "cell_type": "code",
   "execution_count": 18,
   "metadata": {},
   "outputs": [],
   "source": [
    "newA=csr_matrix(vstack([hstack([A.T.dot(A),Bmat.T]),hstack([Bmat,lil_matrix((N*(N-1)*M,N*(N-1)*M))])]))\n",
    "newb=csr_matrix(vstack([A.T.dot(b),c]))"
   ]
  },
  {
   "cell_type": "code",
   "execution_count": 19,
   "metadata": {},
   "outputs": [
    {
     "name": "stdout",
     "output_type": "stream",
     "text": [
      "(550, 550) (550, 1)\n",
      "(370,)\n",
      "True w: [ 0.16095643 -0.3759672  -0.753644   -0.0566782  -0.20909612 -0.424449\n",
      "  0.17023425  0.2783421  -0.5407535   0.07824416]\n",
      "Estimated w: [ 0.159609   -0.37564034 -0.75323198 -0.05583089 -0.20873803 -0.42280807\n",
      "  0.17093733  0.27667612 -0.54059648  0.07755342]\n"
     ]
    },
    {
     "data": {
      "image/png": "[encoded data removed]",
      "text/plain": [
       "<Figure size 1080x432 with 3 Axes>"
      ]
     },
     "metadata": {},
     "output_type": "display_data"
    },
    {
     "data": {
      "text/plain": [
       "(array([ 0.159609  , -0.37564034, -0.75323198, -0.05583089, -0.20873803,\n",
       "        -0.42280807,  0.17093733,  0.27667612, -0.54059648,  0.07755342]),\n",
       " array([[0.        , 0.00640816, 0.99250249, 0.01966263, 0.99742739,\n",
       "         0.01038493, 1.00851128, 0.03349893, 0.00808717, 0.01534854],\n",
       "        [0.00640816, 0.        , 0.01005935, 1.0031614 , 1.00930918,\n",
       "         1.01035907, 0.02427562, 1.00346872, 0.99944379, 0.99805219],\n",
       "        [0.99250249, 0.01005935, 0.        , 1.00102379, 0.01605638,\n",
       "         1.01201368, 1.00924764, 0.98855729, 0.01229031, 0.00679282],\n",
       "        [0.01966263, 1.0031614 , 1.00102379, 0.        , 0.00531882,\n",
       "         0.01433568, 0.02305043, 1.00989149, 0.01412306, 0.99514695],\n",
       "        [0.99742739, 1.00930918, 0.01605638, 0.00531882, 0.        ,\n",
       "         0.01911408, 0.01101586, 0.99688918, 0.0104906 , 0.99942116],\n",
       "        [0.01038493, 1.01035907, 1.01201368, 0.01433568, 0.01911408,\n",
       "         0.        , 0.98916037, 1.01563012, 0.98672647, 0.0114521 ],\n",
       "        [1.00851128, 0.02427562, 1.00924764, 0.02305043, 0.01101586,\n",
       "         0.98916037, 0.        , 1.00488541, 1.01651555, 0.02066804],\n",
       "        [0.03349893, 1.00346872, 0.98855729, 1.00989149, 0.99688918,\n",
       "         1.01563012, 1.00488541, 0.        , 1.00710158, 0.02420333],\n",
       "        [0.00808717, 0.99944379, 0.01229031, 0.01412306, 0.0104906 ,\n",
       "         0.98672647, 1.01651555, 1.00710158, 0.        , 0.01150707],\n",
       "        [0.01534854, 0.99805219, 0.00679282, 0.99514695, 0.99942116,\n",
       "         0.0114521 , 0.02066804, 0.02420333, 0.01150707, 0.        ]]))"
      ]
     },
     "execution_count": 19,
     "metadata": {},
     "output_type": "execute_result"
    }
   ],
   "source": [
    "from scipy.sparse.linalg import spsolve\n",
    "print(newA.shape,newb.shape)\n",
    "sol=spsolve(newA,newb)\n",
    "x=sol[:N*C]\n",
    "z=sol[N*C:]\n",
    "print(x.shape)\n",
    "unpack_x(x,learning_params)"
   ]
  },
  {
   "cell_type": "code",
   "execution_count": null,
   "metadata": {},
   "outputs": [],
   "source": []
  }
 ],
 "metadata": {
  "kernelspec": {
   "display_name": "Python 3",
   "language": "python",
   "name": "python3"
  },
  "language_info": {
   "codemirror_mode": {
    "name": "ipython",
    "version": 3
   },
   "file_extension": ".py",
   "mimetype": "text/x-python",
   "name": "python",
   "nbconvert_exporter": "python",
   "pygments_lexer": "ipython3",
   "version": "3.6.5"
  }
 },
 "nbformat": 4,
 "nbformat_minor": 2
}
