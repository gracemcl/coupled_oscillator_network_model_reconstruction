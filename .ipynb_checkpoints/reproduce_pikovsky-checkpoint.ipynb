{
 "cells": [
  {
   "cell_type": "code",
   "execution_count": 21,
   "metadata": {},
   "outputs": [
    {
     "data": {
      "text/plain": [
       "<module 'learn_kuramoto_files' from 'C:\\\\Users\\\\mjpbb\\\\Box\\\\MRC\\\\learn_model_fourier\\\\learn_network_structure\\\\learn_kuramoto_files.py'>"
      ]
     },
     "execution_count": 21,
     "metadata": {},
     "output_type": "execute_result"
    }
   ],
   "source": [
    "import learn_kuramoto_files as lk\n",
    "import numpy as np\n",
    "import importlib as imp\n",
    "import pandas as pd\n",
    "import time\n",
    "from scipy import signal\n",
    "import matplotlib.pyplot as plt\n",
    "from scipy.sparse import csr_matrix, lil_matrix,vstack,hstack\n",
    "from scipy.sparse.linalg import spsolve\n",
    "imp.reload(lk)"
   ]
  },
  {
   "cell_type": "code",
   "execution_count": 77,
   "metadata": {},
   "outputs": [],
   "source": [
    "##############################################################################\n",
    "## define model parameters\n",
    "num_osc=10\n",
    "mu_freq=0.0  # mean natural frequency\n",
    "sigma_freq=0.5 # std natural frequency\n",
    "p_erdos_renyi=0.5  # probability of connection for erdos renyi\n",
    "random_seed=-1 # -1 to ignore\n",
    "coupling_function=lambda x: np.sin(x)#+0.1*np.sin(2*(x+0.2))   # Gamma from kuramoto model\n",
    "#coupling_function=lambda x: np.sin(x-0.2)+0.1*np.cos(2*x) # Gamma from kuramoto model\n",
    "\n",
    "##############################################################################\n",
    "## define numerical solution parameters\n",
    "dt=0.1     # time step for numerical solution\n",
    "tmax=200*dt    # maximum time for numerical solution\n",
    "noise_level=0.0 # post solution noise added\n",
    "dynamic_noise_level=0 # post solution noise added\n",
    "num_repeats=2#10 # number of restarts for numerical solution\n",
    "num_attempts=1#5 # number of times to attempt to learn from data for each network\n",
    "num_networks=1#10 # number of different networks for each parameter value\n",
    "method='euler' #'rk2','rk4','euler',\n",
    "with_vel=True\n",
    "## Note: the  loop parameter value will overwrite the value above"
   ]
  },
  {
   "cell_type": "code",
   "execution_count": 78,
   "metadata": {
    "scrolled": false
   },
   "outputs": [],
   "source": [
    "show_plots=False\n",
    "# A_true=np.matrix(np.ones((3,3))-np.eye(3))\n",
    "# A_true[1,2]=0\n",
    "# A_true[2,1]=0\n",
    "# print(A_true)\n",
    "system_params={'w': lk.random_natural_frequencies(num_osc,mu=mu_freq,sigma=sigma_freq,seed=random_seed),\n",
    "        'A': lk.random_erdos_renyi_network(num_osc,p_value=p_erdos_renyi,seed=random_seed),\n",
    "        'K': 1.0,\n",
    "        'Gamma': coupling_function,\n",
    "        }\n",
    "solution_params={'dt':dt,\n",
    "                 'tmax':tmax,\n",
    "                 'noise': noise_level,\n",
    "                 'dynamic noise': dynamic_noise_level,\n",
    "                 'ts_skip': 1, # don't skip timesteps\n",
    "                 'num_repeats': num_repeats\n",
    "                 }\n",
    "\n",
    "learning_params={'learning_rate': 0.005,\n",
    "                 'n_epochs': 300, #400\n",
    "                 'batch_size':500,#500,\n",
    "                 'n_oscillators':num_osc,\n",
    "                 'dt': dt,\n",
    "                 'n_coefficients': 2,\n",
    "                 'reg':0.0001,\n",
    "                 'prediction_method': method,\n",
    "                 'velocity_fit': with_vel\n",
    "                 }\n",
    "t=np.arange(0,tmax,dt)[:-1].reshape(-1,1)\n",
    "phases,vel=lk.generate_data_vel(system_params,solution_params)\n",
    "if show_plots:\n",
    "    for repeat in range(solution_params['num_repeats']):\n",
    "        lk.plot_ode_results(t,phases[repeat*t.shape[0]:(1+repeat)*t.shape[0],:],figsize=(20,5),fontsize=16)\n",
    "        plt.plot(t,vel[repeat*t.shape[0]:(1+repeat)*t.shape[0],:])\n",
    "        plt.plot(t,0*t+system_params['w'].T,'--')\n",
    "        plt.show()"
   ]
  },
  {
   "cell_type": "code",
   "execution_count": 79,
   "metadata": {},
   "outputs": [
    {
     "name": "stdout",
     "output_type": "stream",
     "text": [
      "phases: (398, 10)\n",
      "vel: (398, 10)\n",
      "unknowns: 370\n"
     ]
    }
   ],
   "source": [
    "#phases=phases[:2,:]\n",
    "#vel=vel[:2,:]\n",
    "print(\"phases:\",phases.shape)\n",
    "print(\"vel:\",vel.shape)\n",
    "M=learning_params['n_coefficients']\n",
    "N=learning_params['n_oscillators']\n",
    "T=phases.shape[0]\n",
    "unknowns=N*(1+2*M*(N-1))\n",
    "print(\"unknowns:\",unknowns)"
   ]
  },
  {
   "cell_type": "code",
   "execution_count": 80,
   "metadata": {},
   "outputs": [],
   "source": [
    "def get_phase_differences(phases,oscillator,timestep,leave_out_self=False):    \n",
    "    theta_oscillator=phases[timestep,oscillator]\n",
    "    if leave_out_self:\n",
    "        theta_other=np.concatenate([phases[timestep,:oscillator],phases[timestep,oscillator+1:]])\n",
    "    else:\n",
    "        theta_other=phases\n",
    "    return theta_oscillator-theta_other"
   ]
  },
  {
   "cell_type": "markdown",
   "metadata": {},
   "source": [
    "We will format our linear system as follows:\n",
    "\n",
    "* omega: column 1\n",
    "* cos(1 dtheta):columns 2 to 2+(N-1)-1\n",
    "* sin(1 dtheta):columns 2+(N-1) to 2+2(N-1)-1\n",
    "* cos(2 dtheta):columns 2+2(N-1) to 2+3(N-1)-1\n",
    "* sin(2 dtheta):columns 2+3(N-1) to 2+4(N-1)-1\n",
    "..."
   ]
  },
  {
   "cell_type": "code",
   "execution_count": 81,
   "metadata": {
    "scrolled": false
   },
   "outputs": [],
   "source": [
    "from scipy.sparse import csr_matrix, lil_matrix,vstack,hstack\n",
    "from scipy.sparse.linalg import spsolve\n",
    "\n",
    "def get_col_ind(M,N,oscillators,neighbors,harmonic=0):\n",
    "    oscillators=np.array(oscillators).reshape(1,-1)\n",
    "    neighbors=np.array(neighbors).reshape(-1,1)\n",
    "    cols_per_equation=1+2*M*(N-1)\n",
    "    if harmonic<=0:\n",
    "        omega_col=oscillators*cols_per_equation\n",
    "        return omega_col\n",
    "    else:\n",
    "        start=oscillators*cols_per_equation+1+(harmonic-1)*2*(N-1)\n",
    "        cos_col=start+neighbors\n",
    "        sin_col=cos_col+(N-1)\n",
    "        return cos_col.squeeze(),sin_col.squeeze()\n",
    "    \n",
    "    \n",
    "def get_row_ind(T,N,oscillator,timestep):\n",
    "    return oscillator+N*timestep\n",
    " \n",
    "def generate_Ab(phases,vel,learning_params):\n",
    "    M=learning_params['n_coefficients']\n",
    "    N=learning_params['n_oscillators']\n",
    "    T=phases.shape[0]\n",
    "    C=1+2*M*(N-1) #columns per equation\n",
    "    A=lil_matrix((N*T, N*C), dtype=np.float64)\n",
    "    b=vel.reshape(-1,1)\n",
    "    for oscillator in range(N):\n",
    "        for timestep in range(T):\n",
    "            row=get_row_ind(T,N,oscillator,timestep)\n",
    "            for harmonic in range(M+1):\n",
    "                if harmonic==0:\n",
    "                    omega_col=get_col_ind(M,N,oscillator,neighbors=-1,harmonic=0)\n",
    "#                     print(\"oscillator:\",oscillator,\", \",end=' ')\n",
    "#                     print(\"timestep:\",timestep,\", \",end=' ')\n",
    "#                     print(\"harmonic:\",harmonic)\n",
    "#                     print(\"row:\", row,\", \",end=' ')\n",
    "#                     print(\"omega col:\",omega_col)\n",
    "                    A[row,omega_col]=1\n",
    "                else:\n",
    "                    cos_col,sin_col=get_col_ind(M,N,oscillator,neighbors=np.array(range(N-1)),harmonic=harmonic)\n",
    "#                     print(\"oscillator:\",oscillator,\", \",end=' ')\n",
    "#                     print(\"timestep:\",timestep,\", \",end=' ')\n",
    "#                     print(\"harmonic:\",harmonic)\n",
    "#                     print(\"row:\", row,\", \",end=' ')\n",
    "#                     print(\"cos col:\",cos_col,\", \",end=' ')\n",
    "#                     print(\"sin col:\",sin_col)\n",
    "                    dtheta=get_phase_differences(phases,oscillator,timestep,leave_out_self=True)                    \n",
    "                    A[row,cos_col]=np.cos(harmonic*dtheta)\n",
    "                    A[row,sin_col]=np.sin(harmonic*dtheta)\n",
    "    return A,b\n",
    "\n",
    "def unpack_x(x,learning_params,thr=0.1,show_coup_plots=False):\n",
    "    M=learning_params['n_coefficients']\n",
    "    N=learning_params['n_oscillators']\n",
    "    cols_per_equation=int(x.shape[0]/N)\n",
    "    \n",
    "    w=x[::cols_per_equation]\n",
    "    print(\"True w:\",system_params['w'].T.squeeze())\n",
    "    print(\"Estimated w:\",w)\n",
    "    \n",
    "    n_theta=20\n",
    "    th=np.linspace(-np.pi,np.pi,n_theta)\n",
    "    coup_vecs=np.zeros((N-1,n_theta))\n",
    "    harmonics=np.array(range(1,M+1)).reshape(-1,1)\n",
    "    A=np.zeros((N,N))\n",
    "    for oscillator in range(N):\n",
    "        cos_coef=np.zeros((N-1,M))\n",
    "        sin_coef=np.zeros((N-1,M))\n",
    "        for harmonic_ind in range(M):\n",
    "            harmonic=harmonic_ind+1\n",
    "            cos_col,sin_col=get_col_ind(M,N,oscillator,neighbors=np.array(range(N-1)),harmonic=harmonic)            \n",
    "            #print(cos_col,sin_col)\n",
    "            cos_coef[:,harmonic_ind]=x[cos_col]\n",
    "            sin_coef[:,harmonic_ind]=x[sin_col]\n",
    "        #print(cos_coef,sin_coef)\n",
    "        coup_vecs=cos_coef.dot(np.cos(harmonics*th))+sin_coef.dot(np.sin(harmonics*th))\n",
    "        if show_coup_plots:\n",
    "            plt.plot(th,N*coup_vecs.T)\n",
    "            plt.show()\n",
    "        amps=np.abs(coup_vecs).max(axis=1)\n",
    "        A[oscillator,:]=N*np.concatenate([amps[:oscillator],[0],amps[oscillator:]])\n",
    "    #print(A,type(A))\n",
    "    #print(system_params['A'],type(system_params['A']))\n",
    "    plt.figure(figsize=(15,6))\n",
    "    ax=plt.subplot(1,3,1)\n",
    "    ax.matshow(np.asarray(system_params['A']),cmap=plt.get_cmap('jet'), vmin=-0.5, vmax=1.5)\n",
    "    plt.title('True A')\n",
    "    ax=plt.subplot(1,3,2)\n",
    "    ax.matshow(A,cmap=plt.get_cmap('jet'), vmin=-0.5, vmax=1.5)\n",
    "    plt.title('Estimated A')\n",
    "    ax=plt.subplot(1,3,3)\n",
    "    ax.matshow((A>thr).astype(np.float64),cmap=plt.get_cmap('jet'), vmin=-0.5, vmax=1.5)\n",
    "    plt.title('Estimated A (thresh)')\n",
    "    plt.show()\n",
    "    return w,A\n",
    "def get_symmetry_constraints(learning_params):\n",
    "    M=learning_params['n_coefficients']\n",
    "    N=learning_params['n_oscillators']\n",
    "    C=1+2*M*(N-1)\n",
    "    Bmat=lil_matrix((N*(N-1)*M, N*C), dtype=np.float64)\n",
    "    c=np.zeros((N*(N-1)*M,1))\n",
    "    rowC=0\n",
    "    for harmonic in range(M):\n",
    "        # create matrices with column indices\n",
    "        cos_col=np.diag(np.nan*np.ones(N))\n",
    "        sin_col=np.diag(np.nan*np.ones(N))\n",
    "        cos_col_tmp,sin_col_tmp=get_col_ind(M,N,oscillators=range(N),neighbors=range(N-1),harmonic=harmonic+1)\n",
    "        cos_col[1:,:]=cos_col[1:,:]+np.tril(cos_col_tmp,0)\n",
    "        cos_col[:-1,:]=cos_col[:-1,:]+np.triu(cos_col_tmp,1)\n",
    "        sin_col[1:,:]=sin_col[1:,:]+np.tril(sin_col_tmp,0)\n",
    "        sin_col[:-1,:]=sin_col[:-1,:]+np.triu(sin_col_tmp,1)\n",
    "\n",
    "        for row in range(N):\n",
    "            for col in range(row):\n",
    "                Bmat[rowC,cos_col[row,col]]=1\n",
    "                Bmat[rowC,cos_col[col,row]]=-1\n",
    "                Bmat[rowC+1,sin_col[row,col]]=1\n",
    "                Bmat[rowC+1,sin_col[col,row]]=-1\n",
    "                rowC+=2 \n",
    "    return Bmat,c\n",
    "def get_combined_matrix(A,b,B=None,c=None):\n",
    "    if (B is None) or (c is None):\n",
    "        newA=A.T.dot(A)\n",
    "        newb=A.T.dot(b)\n",
    "    else:\n",
    "        z=lil_matrix((B.shape[0],B.shape[0]))\n",
    "        newA=csr_matrix(vstack([hstack([A.T.dot(A),B.T]),hstack([B,z])]))\n",
    "        newb=csr_matrix(vstack([A.T.dot(b),c]))\n",
    "    return newA,newb\n",
    "def solve_system(newA,newb,learning_params,with_symmetry=True):\n",
    "    M=learning_params['n_coefficients']\n",
    "    N=learning_params['n_oscillators']\n",
    "    C=1+2*M*(N-1)\n",
    "    sol=spsolve(newA,newb)\n",
    "    x=sol[:N*C]\n",
    "    z=sol[N*C:]\n",
    "    return x"
   ]
  },
  {
   "cell_type": "code",
   "execution_count": 82,
   "metadata": {
    "scrolled": false
   },
   "outputs": [
    {
     "name": "stdout",
     "output_type": "stream",
     "text": [
      "True w: [-0.27190018 -0.14938763  0.7601749  -0.05250471  0.74719447 -0.69896233\n",
      "  0.3486663  -1.1964768  -0.12782873  0.9307366 ]\n",
      "Estimated w: [-0.26825098  1.52429794  0.75794143  1.63943538  0.74196427 -0.69707113\n",
      "  0.35570429 -1.19498701 -0.1272168   0.92898205]\n"
     ]
    },
    {
     "data": {
      "image/png": "[encoded data removed]",
      "text/plain": [
       "<Figure size 1080x432 with 3 Axes>"
      ]
     },
     "metadata": {},
     "output_type": "display_data"
    },
    {
     "data": {
      "text/plain": [
       "(array([-0.26825098,  1.52429794,  0.75794143,  1.63943538,  0.74196427,\n",
       "        -0.69707113,  0.35570429, -1.19498701, -0.1272168 ,  0.92898205]),\n",
       " array([[0.00000000e+00, 2.12381027e-01, 1.01940320e+00, 2.03423077e-01,\n",
       "         9.88080897e-01, 1.04002697e+00, 9.88597321e-01, 3.72316942e-02,\n",
       "         1.03104441e+00, 3.40344007e-02],\n",
       "        [2.12381027e-01, 0.00000000e+00, 1.02591119e+00, 2.82932842e+01,\n",
       "         1.00170081e-01, 1.05144941e+00, 1.00455405e+00, 2.37899679e-02,\n",
       "         1.28350347e+00, 4.25536150e-02],\n",
       "        [1.01940320e+00, 1.02591119e+00, 0.00000000e+00, 8.43143911e-02,\n",
       "         9.80420396e-01, 1.00769692e+00, 9.81145118e-01, 9.75562395e-01,\n",
       "         1.02498547e+00, 9.85919739e-01],\n",
       "        [2.03423077e-01, 2.82932842e+01, 8.43143911e-02, 0.00000000e+00,\n",
       "         1.01094897e-01, 1.01712915e+00, 1.09101282e+00, 4.76711653e-02,\n",
       "         2.41175948e-01, 1.04556964e+00],\n",
       "        [9.88080897e-01, 1.00170081e-01, 9.80420396e-01, 1.01094897e-01,\n",
       "         0.00000000e+00, 9.34813321e-01, 6.91146123e-02, 9.53928339e-01,\n",
       "         1.01705579e+00, 1.25849549e-01],\n",
       "        [1.04002697e+00, 1.05144941e+00, 1.00769692e+00, 1.01712915e+00,\n",
       "         9.34813321e-01, 0.00000000e+00, 4.39725455e-02, 7.57020654e-02,\n",
       "         1.00557371e+00, 6.38216069e-02],\n",
       "        [9.88597321e-01, 1.00455405e+00, 9.81145118e-01, 1.09101282e+00,\n",
       "         6.91146123e-02, 4.39725455e-02, 0.00000000e+00, 1.06114948e+00,\n",
       "         6.36971657e-02, 1.06378959e+00],\n",
       "        [3.72316942e-02, 2.37899679e-02, 9.75562395e-01, 4.76711653e-02,\n",
       "         9.53928339e-01, 7.57020654e-02, 1.06114948e+00, 0.00000000e+00,\n",
       "         9.68756541e-01, 9.56652748e-01],\n",
       "        [1.03104441e+00, 1.28350347e+00, 1.02498547e+00, 2.41175948e-01,\n",
       "         1.01705579e+00, 1.00557371e+00, 6.36971657e-02, 9.68756541e-01,\n",
       "         0.00000000e+00, 1.03534704e+00],\n",
       "        [3.40344007e-02, 4.25536150e-02, 9.85919739e-01, 1.04556964e+00,\n",
       "         1.25849549e-01, 6.38216069e-02, 1.06378959e+00, 9.56652748e-01,\n",
       "         1.03534704e+00, 0.00000000e+00]]))"
      ]
     },
     "execution_count": 82,
     "metadata": {},
     "output_type": "execute_result"
    }
   ],
   "source": [
    "with_symmetry=True\n",
    "A,b=generate_Ab(phases,vel,learning_params)\n",
    "if with_symmetry:\n",
    "    B,c=get_symmetry_constraints(learning_params)\n",
    "    newA,newb=get_combined_matrix(A,b,B,c)\n",
    "else:\n",
    "    newA,newb=get_combined_matrix(A,b)\n",
    "x=solve_system(newA,newb,learning_params)\n",
    "unpack_x(x,learning_params)"
   ]
  },
  {
   "cell_type": "code",
   "execution_count": null,
   "metadata": {},
   "outputs": [],
   "source": []
  },
  {
   "cell_type": "code",
   "execution_count": null,
   "metadata": {},
   "outputs": [],
   "source": []
  },
  {
   "cell_type": "code",
   "execution_count": null,
   "metadata": {},
   "outputs": [],
   "source": []
  }
 ],
 "metadata": {
  "kernelspec": {
   "display_name": "Python 3",
   "language": "python",
   "name": "python3"
  },
  "language_info": {
   "codemirror_mode": {
    "name": "ipython",
    "version": 3
   },
   "file_extension": ".py",
   "mimetype": "text/x-python",
   "name": "python",
   "nbconvert_exporter": "python",
   "pygments_lexer": "ipython3",
   "version": "3.6.4"
  }
 },
 "nbformat": 4,
 "nbformat_minor": 2
}
